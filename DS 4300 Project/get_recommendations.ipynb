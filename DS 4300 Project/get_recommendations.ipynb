{
 "cells": [
  {
   "cell_type": "code",
   "execution_count": 1,
   "metadata": {},
   "outputs": [],
   "source": [
    "# pip install neo4j\n",
    "from neo4j import GraphDatabase"
   ]
  },
  {
   "cell_type": "code",
   "execution_count": null,
   "metadata": {},
   "outputs": [],
   "source": [
    "# First provide your neo4j account information for connection\n",
    "username = input(\"Please input your neo4j username (neo4j is default): \")\n",
    "password = input(\"Please input your password: \")"
   ]
  },
  {
   "cell_type": "code",
   "execution_count": 7,
   "metadata": {},
   "outputs": [],
   "source": [
    "# Connect to the neo4j database server\n",
    "graphdb = GraphDatabase.driver(uri = \"bolt://localhost:7687\", auth = (username, password))"
   ]
  },
  {
   "cell_type": "code",
   "execution_count": 38,
   "metadata": {},
   "outputs": [],
   "source": [
    "session = graphdb.session()"
   ]
  },
  {
   "cell_type": "code",
   "execution_count": 44,
   "metadata": {},
   "outputs": [
    {
     "name": "stdout",
     "output_type": "stream",
     "text": [
      "What is your name?Ivan Wang\n"
     ]
    }
   ],
   "source": [
    "# Input your name\n",
    "myname = input(\"What is your name?\")"
   ]
  },
  {
   "cell_type": "code",
   "execution_count": 45,
   "metadata": {
    "scrolled": true
   },
   "outputs": [
    {
     "data": {
      "text/plain": [
       "<neo4j.BoltStatementResult at 0x1111aefeac8>"
      ]
     },
     "execution_count": 45,
     "metadata": {},
     "output_type": "execute_result"
    }
   ],
   "source": [
    "# Create your user node to the database\n",
    "q1 = 'CREATE (p:User {{name:\"{}\"}})'.format(myname)\n",
    "session.run(q1)"
   ]
  },
  {
   "cell_type": "code",
   "execution_count": 49,
   "metadata": {},
   "outputs": [
    {
     "name": "stdout",
     "output_type": "stream",
     "text": [
      "How many movies you want to rate?(At least 10) 4\n",
      "Please enter name & rating separated by \":\" Toy Story:8\n",
      "Please enter name & rating separated by \":\" Heat:6\n",
      "Please enter name & rating separated by \":\" Copycat:8\n",
      "Please enter name & rating separated by \":\" Powder:2\n"
     ]
    }
   ],
   "source": [
    "# Input the number of movies you want to rate. At least 5 is required in order to get enough information to get recommendations\n",
    "n = int(input(\"How many movies you want to rate?(At least 5) \"))\n",
    "\n",
    "# Input movvies' titles and ratings\n",
    "movie_list = dict()\n",
    "for i in range(n):\n",
    "    data = input('Please enter title whose intial letter is capitalized & rating separated by \":\"')\n",
    "    temp = data.split(':')\n",
    "    movie_list[temp[0]] = int(temp[1])\n",
    "\n",
    "# Statement to create a rating relationship between users and movies\n",
    "q2 = \"\"\"MATCH (p:User),(m:Movie)\n",
    "WHERE p.name = '{0}' AND m.title = '{1}'\n",
    "CREATE (p)-[r:RATED {{rating:{2}}}]->(m)\n",
    "RETURN type(r)\"\"\"\n",
    "\n",
    "# Establish a rating relationship\n",
    "for key, value in movie_list.items():\n",
    "\tsession.run(q2.format(myname, key, value))"
   ]
  },
  {
   "cell_type": "code",
   "execution_count": 71,
   "metadata": {},
   "outputs": [
    {
     "name": "stdout",
     "output_type": "stream",
     "text": [
      "['Motorama', 'Rubber', 'Who Framed Roger Rabbit?', 'Seven-Per-Cent Solution, The', 'Wonderful World of the Brothers Grimm, The', 'Interstate 60', 'Inside Out', 'Pulse', 'Invisible, The', \"Kiki's Delivery Service (Majo no takkyûbin)\"]\n"
     ]
    }
   ],
   "source": [
    "# This simple approach is to only take genres into consideration\n",
    "# Based on the movies rated by you, what genres have a rating greater than the average rating. Output similar movies as recommendations\n",
    "# It only focuses on yourself.\n",
    "q3 = \"\"\"MATCH (u:User {{name: \"{0}\"}})-[r:RATED]->(m:Movie)\n",
    "WITH u, avg(r.rating) AS mean\n",
    "\n",
    "MATCH (u)-[r:RATED]->(m:Movie)-[:IN_GENRE]->(g:Genre)\n",
    "WHERE r.rating > mean\n",
    "\n",
    "WITH u, g, COUNT(*) AS score\n",
    "\n",
    "MATCH (g)<-[:IN_GENRE]-(rec:Movie)\n",
    "WHERE NOT EXISTS((u)-[:RATED]->(rec))\n",
    "\n",
    "RETURN rec.title AS recommendation, rec.year AS year, COLLECT(DISTINCT g.name) AS genres, SUM(score) AS sscore\n",
    "ORDER BY sscore DESC LIMIT 10\"\"\".format(myname)\n",
    "recommendations1_temp = session.run(q3)\n",
    "recommendations1 = []\n",
    "for n in recommendations1_temp.values():\n",
    "    movie = n[0]\n",
    "    recommendations1.append(movie)\n",
    "print(recommendations1)"
   ]
  },
  {
   "cell_type": "code",
   "execution_count": 64,
   "metadata": {},
   "outputs": [
    {
     "name": "stdout",
     "output_type": "stream",
     "text": [
      "[[\"Who's Afraid of Virginia Woolf?\"], ['West Side Story'], ['Player, The'], ['Few Good Men, A'], ['Happiness'], ['And the Band Played On'], ['Pleasantville'], ['Life Is Beautiful (La Vita è bella)'], [\"Ferris Bueller's Day Off\"], ['Midnight Cowboy']]\n"
     ]
    }
   ],
   "source": [
    "# This approach is using cosine similarity to find users who have similar preferences.\n",
    "# The higher sim is, the more similar preference a user has\n",
    "# It will show the user who has the most similar preference for watching movies\n",
    "# Then we decide to choose 10 movies which have the highest rating from the user as recommendation\n",
    "\n",
    "q4 = \"\"\"MATCH (u1:User {{name: \"{}\"}})-[x:RATED]->(m:Movie)<-[y:RATED]-(u2:User)\n",
    "WITH COUNT(m) AS numbermovies, SUM(x.rating * y.rating) AS xyDotProduct,\n",
    "SQRT(REDUCE(xDot = 0.0, a IN COLLECT(x.rating) | xDot + a^2)) AS xLength,\n",
    "SQRT(REDUCE(yDot = 0.0, b IN COLLECT(y.rating) | yDot + b^2)) AS yLength,\n",
    "u1, u2 WHERE numbermovies > 3\n",
    "RETURN u1.name, u2.name, xyDotProduct / (xLength * yLength) AS sim\n",
    "ORDER BY sim DESC\n",
    "LIMIT 1;\"\"\".format(myname)\n",
    "\n",
    "result = session.run(q4)\n",
    "\n",
    "# Save the user name\n",
    "user_name = result.values()[0][1]\n",
    "\n",
    "# Display the 10 highest rating movies of the user\n",
    "q5 = \"\"\"MATCH (u:User {{name: \"{0}\"}})-[x:RATED]->(m:Movie)\n",
    "RETURN m.title\n",
    "ORDER BY x.rating DESC\n",
    "LIMIT 10\"\"\".format(user_name)\n",
    "\n",
    "recommendations2_temp = session.run(q5)\n",
    "recommendations2 = recommendations2_temp.values()\n",
    "print(recommendations2)"
   ]
  },
  {
   "cell_type": "code",
   "execution_count": null,
   "metadata": {},
   "outputs": [],
   "source": []
  }
 ],
 "metadata": {
  "kernelspec": {
   "display_name": "Python 3",
   "language": "python",
   "name": "python3"
  },
  "language_info": {
   "codemirror_mode": {
    "name": "ipython",
    "version": 3
   },
   "file_extension": ".py",
   "mimetype": "text/x-python",
   "name": "python",
   "nbconvert_exporter": "python",
   "pygments_lexer": "ipython3",
   "version": "3.7.6"
  }
 },
 "nbformat": 4,
 "nbformat_minor": 4
}
